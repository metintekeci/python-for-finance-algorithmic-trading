{
 "cells": [
  {
   "cell_type": "markdown",
   "metadata": {},
   "source": [
    "# Python for Financial Analysis and Algorithmic Trading"
   ]
  },
  {
   "cell_type": "markdown",
   "metadata": {},
   "source": [
    "# 00 - Introduction to Python for Financial Analysis and Algorithmic Trading"
   ]
  },
  {
   "cell_type": "markdown",
   "metadata": {},
   "source": [
    "####  Learn numpy , pandas , matplotlib , quantopian , finance for algorithmic trading with Python!\n",
    "\n",
    "### Udemy Course by Jose Portilla  \n",
    "> [here](https://www.udemy.com/course/python-for-finance-and-trading-algorithms/)"
   ]
  },
  {
   "cell_type": "markdown",
   "metadata": {},
   "source": [
    "#### Disclaimer !\n",
    "* This notebook series is a personal note to self written in March 2020, updated in February 2021. \n",
    "* It contains code along exercises of the Udemy course of Jose Portilla.\n",
    "* It may contain errors, outdated or missing information. \n",
    "* Use it at your own risk for educational purposes only.  \n",
    "\n",
    "__Chapter 10 - 11 are outdated as the Quantopian Platform, required for the exercises - is no longer available.__"
   ]
  },
  {
   "cell_type": "markdown",
   "metadata": {},
   "source": [
    "### What you'll learn\n",
    "* Use NumPy to quickly work with Numerical Data  \n",
    "* Use Pandas for Analyze and Visualize Data  \n",
    "* Use Matplotlib to create custom plots  \n",
    "* Learn how to use statsmodels for Time Series Analysis  \n",
    "* Calculate Financial Statistics, such as Daily Returns, Cumulative Returns, Volatility, etc..  \n",
    "* Use Exponentially Weighted Moving Averages  \n",
    "* Use ARIMA models on Time Series Data  \n",
    "* Calculate the Sharpe Ratio  \n",
    "* Optimize Portfolio Allocations  \n",
    "* Understand the Capital Asset Pricing Model  \n",
    "* Learn about the Efficient Market Hypothesis  \n",
    "* Conduct algorithmic Trading on Quantopian  "
   ]
  },
  {
   "cell_type": "markdown",
   "metadata": {},
   "source": [
    "## Content\n",
    "\n",
    "01 - Python Crash Course  \n",
    "02 - NumPy  \n",
    "03 - General Pandas Overview   \n",
    "04 - Visualization with Matplotlib and Pandas  \n",
    "05 - Data Sources   \n",
    "06 - Pandas with Time Series Data  \n",
    "07 - Capstone Stock Market Analysis Project  \n",
    "08 - Time Series Analysis  \n",
    "09 - Python Finance Fundamentals  \n",
    "10 - Basics of Algorithmic Trading with Quantopian  \n",
    "11 - Advanced Quantopian and Trading Algorithms\n",
    "\n"
   ]
  }
 ],
 "metadata": {
  "kernelspec": {
   "display_name": "Python 3",
   "language": "python",
   "name": "python3"
  },
  "language_info": {
   "codemirror_mode": {
    "name": "ipython",
    "version": 3
   },
   "file_extension": ".py",
   "mimetype": "text/x-python",
   "name": "python",
   "nbconvert_exporter": "python",
   "pygments_lexer": "ipython3",
   "version": "3.8.5"
  }
 },
 "nbformat": 4,
 "nbformat_minor": 4
}
