{
 "cells": [
  {
   "cell_type": "markdown",
   "metadata": {},
   "source": [
    "# Python for Financial Analysis and Algorithmic Trading"
   ]
  },
  {
   "cell_type": "markdown",
   "metadata": {},
   "source": [
    "# WARNING: \n",
    "\n",
    "# QUANTOPIAN is no longer active # \n",
    "\n",
    "\n",
    "__Quantopian__ (quantopian.com) was a Boston-based company that aimed to create a crowd-sourced hedge fund by letting freelance quantitative analysts develop, test, and use trading algorithms to buy and sell securities.. Its primary competitors were other open source trading platforms, mainly Numerai, QuantConnect, and WorldQuant. In November 2020, Quantopian announced it will shut down and will join Robinhood, a U.S.-based financial services firm and broker-dealer popular with millennials."
   ]
  },
  {
   "cell_type": "markdown",
   "metadata": {},
   "source": [
    "### Chapters 10 and 11 are not usable as there is no more a platform called Quantopian"
   ]
  },
  {
   "cell_type": "markdown",
   "metadata": {},
   "source": [
    "# 11 - Advanced Quantopian and Trading Algorithms"
   ]
  },
  {
   "cell_type": "markdown",
   "metadata": {},
   "source": [
    "We'll cover the following topics:\n",
    "\n",
    "* Pipeline Example\n",
    "* Leverage\n",
    "* Hedging\n",
    "* PyFolio for Portfolio Analysis\n",
    "* Stock Sentiment Trading Strategy\n",
    "* Futures"
   ]
  },
  {
   "cell_type": "markdown",
   "metadata": {},
   "source": [
    "## Pipeline Example"
   ]
  },
  {
   "cell_type": "markdown",
   "metadata": {},
   "source": [
    "We have learned how Pipeline works in the last section, but haven't explored any deeper examples.  \n",
    "Our main approach will be to select a **universe** of stocks to trade from, then either go long or short, depending on some factor or filter.  \n",
    "\n",
    "We'll start in the Research Notebook environment and then switch over to the IDE for implementation."
   ]
  },
  {
   "cell_type": "markdown",
   "metadata": {},
   "source": [
    "### Pipeline Example in RESEARCH First "
   ]
  },
  {
   "cell_type": "code",
   "execution_count": null,
   "metadata": {},
   "outputs": [],
   "source": [
    "from quantopian.pipeline import Pipeline\n",
    "from quantopian.research import run_pipeline\n",
    "from quantopian.pipeline.data.builtin import USEquityPricing"
   ]
  },
  {
   "cell_type": "code",
   "execution_count": null,
   "metadata": {},
   "outputs": [],
   "source": [
    "#Q[number]US : number of US tradable stocks in included based on volume, liquidity\n",
    "from quantopian.pipeline.filters import Q1500US "
   ]
  },
  {
   "cell_type": "markdown",
   "metadata": {},
   "source": [
    "\n",
    "Filter 1 : tradable stocks"
   ]
  },
  {
   "cell_type": "code",
   "execution_count": null,
   "metadata": {},
   "outputs": [],
   "source": [
    "universe = Q1500US()"
   ]
  },
  {
   "cell_type": "markdown",
   "metadata": {},
   "source": [
    "Filter2 : energy sector"
   ]
  },
  {
   "cell_type": "code",
   "execution_count": null,
   "metadata": {},
   "outputs": [],
   "source": [
    "from quantopian.pipeline.data import morningstar"
   ]
  },
  {
   "cell_type": "code",
   "execution_count": null,
   "metadata": {},
   "outputs": [],
   "source": [
    "sector = morningstar.asset_classification.morningstar_sector_code.latest"
   ]
  },
  {
   "cell_type": "markdown",
   "metadata": {},
   "source": [
    "sector codes https://www.quantopian.com/docs/data-reference/morningstar_fundamentals#super-sector-sector-group-and-industry-mappings-november-2019-onward"
   ]
  },
  {
   "cell_type": "code",
   "execution_count": null,
   "metadata": {},
   "outputs": [],
   "source": [
    "energy_sector = sector.eq(309)"
   ]
  },
  {
   "cell_type": "markdown",
   "metadata": {},
   "source": [
    "masking filters help efficient coding import some factors and apply the masking"
   ]
  },
  {
   "cell_type": "code",
   "execution_count": null,
   "metadata": {},
   "outputs": [],
   "source": [
    "from quantopian.pipeline.factors import SimpleMovingAverage, AverageDollarVolume"
   ]
  },
  {
   "cell_type": "code",
   "execution_count": null,
   "metadata": {},
   "outputs": [],
   "source": [
    "dollar_volume = AverageDollarVolume(window_length=30)"
   ]
  },
  {
   "cell_type": "code",
   "execution_count": null,
   "metadata": {},
   "outputs": [],
   "source": [
    "# Construct a Filter matching the top N asset values of self each day.\n",
    "# dollar_volume.top()\n",
    "\n",
    "# top 10 percent based on volume\n",
    "high_dollar_volume = dollar_volume.percentile_between(90, 100)"
   ]
  },
  {
   "cell_type": "code",
   "execution_count": null,
   "metadata": {},
   "outputs": [],
   "source": [
    "# apply another filter over the masking above\n",
    "top_open_prices = USEquityPricing.open.latest.top(50, mask=high_dollar_volume)\n",
    "high_close_price = USEquityPricing.close.latest.percentile_between(90,100, mask=top_open_prices)"
   ]
  },
  {
   "cell_type": "markdown",
   "metadata": {},
   "source": [
    "up until now, \n",
    "we select `Q1500US` as our universe,\n",
    "then apply an `sector` filter    \n",
    "and then we create a mask to see high top 10 % volume stocks based on last 30 day volume    \n",
    "and then we filter top 50 of the high volume stocks  \n",
    "and among those we filter the top 10 % as per their close prices."
   ]
  },
  {
   "cell_type": "code",
   "execution_count": null,
   "metadata": {},
   "outputs": [],
   "source": [
    "def make_pipeline():\n",
    "    \n",
    "    # Universe Q1500US\n",
    "    base_universe = Q1500US()\n",
    "    \n",
    "    # Energy Sector\n",
    "    energy_sector = sector.eq(309)\n",
    "    \n",
    "    # Combine above and Make mask of 1500US and Energy\n",
    "    base_energy = base_universe & energy_sector\n",
    "    \n",
    "    # Dollar Volume grab the info\n",
    "    dollar_volume = AverageDollarVolume(window_length=30)\n",
    "    \n",
    "    # Grab the top 5% in avg dollar volume\n",
    "    high_dollar_volume = dollar_volume.percentile_between(95, 100)\n",
    "        \n",
    "    # Combine the filters again\n",
    "    top_five_base_energy = base_energy & high_dollar_volume\n",
    "    \n",
    "    # 10 day mean close\n",
    "    mean_10 = SimpleMovingAverage(inputs=[USEquityPricing.close], window_length=10, mask=top_five_base_energy)\n",
    "    \n",
    "    # 30 day mean close\n",
    "    mean_30 = SimpleMovingAverage(inputs=[USEquityPricing.close], window_length=30, mask=top_five_base_energy)\n",
    "    \n",
    "    # Percent Difference\n",
    "    percent_difference = (mean_10 - mean_30) / mean_30\n",
    "    \n",
    "    # List of Shorts\n",
    "    shorts = percent_difference < 0\n",
    "    \n",
    "    # List of longs \n",
    "    longs = percent_difference > 0\n",
    "    \n",
    "    # final Mask/filter for anything in shorts or Longs\n",
    "    securities_to_trade = (shorts | longs)\n",
    "    \n",
    "    # Return Pipeline\n",
    "    return Pipeline(columns = {\n",
    "                    'longs' : longs,\n",
    "                    'shorts': shorts,\n",
    "                    'perc_diff': percent_difference},\n",
    "                    screen= securities_to_trade\n",
    "                    )\n",
    "    "
   ]
  },
  {
   "cell_type": "code",
   "execution_count": null,
   "metadata": {},
   "outputs": [],
   "source": [
    "result = run_pipeline(make_pipeline(), '2015-05-05', '2015-05-05' )\n",
    "\n",
    "# Pipeline Execution Time: xx.00 Seconds # depending on your run"
   ]
  },
  {
   "cell_type": "code",
   "execution_count": null,
   "metadata": {},
   "outputs": [],
   "source": [
    "result"
   ]
  },
  {
   "cell_type": "code",
   "execution_count": null,
   "metadata": {},
   "outputs": [],
   "source": [
    "# output \n",
    "# longs\tperc_diff\tshorts\n",
    "# 2015-05-05 00:00:00+00:00\t\n",
    "# Equity(216 [HES])\tTrue\t0.036528\tFalse\n",
    "# Equity(448 [APA])\tTrue\t0.035926\tFalse\n",
    "# Equity(455 [APC])\tTrue\t0.049153\tFalse\n",
    "# Equity(858 [BHI])\tTrue\t0.033807\tFalse\n",
    "# Equity(1746 [COG])\tTrue\t0.058078\tFalse\n",
    "# Equity(2368 [DVN])\tTrue\t0.046264\tFalse\n",
    "# Equity(2564 [EOG])\tTrue\t0.032102\tFalse\n",
    "# Equity(2621 [VAL])\tTrue\t0.060197\tFalse\n",
    "# Equity(3443 [HAL])\tTrue\t0.049257\tFalse\n",
    "# Equity(3647 [HP])\tTrue\t0.040991\tFalse\n",
    "# Equity(5035 [MRO])\tTrue\t0.061598\tFalse\n",
    "# Equity(5213 [NBL])\tTrue\t0.010443\tFalse\n",
    "# Equity(5214 [NBR])\tTrue\t0.064133\tFalse\n",
    "# Equity(5249 [NE])\tTrue\t0.037559\tFalse\n",
    "# Equity(5729 [OXY])\tTrue\t0.029776\tFalse\n",
    "# Equity(6928 [SLB])\tTrue\t0.046555\tFalse\n",
    "# Equity(7244 [SWN])\tTrue\t0.070788\tFalse\n",
    "# Equity(7612 [ANDV])\tTrue\t0.005997\tFalse\n",
    "# Equity(7990 [VLO])\tFalse\t-0.017145\tTrue\n",
    "# Equity(8214 [WMB])\tTrue\t0.018876\tFalse\n",
    "# Equity(8347 [XOM])\tTrue\t0.017343\tFalse\n",
    "# Equity(8461 [CHK])\tTrue\t0.014265\tFalse\n",
    "# Equity(9038 [RIG])\tTrue\t0.048180\tFalse\n",
    "# Equity(13176 [CAM])\tTrue\t0.082110\tFalse\n",
    "# Equity(17436 [PXD])\tTrue\t0.010248\tFalse\n",
    "# Equity(19249 [RRC])\tTrue\t0.087062\tFalse\n",
    "# Equity(19336 [WFT])\tTrue\t0.049141\tFalse\n",
    "# Equity(22784 [FTI])\tTrue\t0.054529\tFalse\n",
    "# Equity(23112 [CVX])\tTrue\t0.018972\tFalse\n",
    "# Equity(23998 [COP])\tTrue\t0.023902\tFalse\n",
    "# Equity(24809 [NOV])\tTrue\t0.024940\tFalse\n",
    "# Equity(25707 [WLL])\tTrue\t0.048205\tFalse\n",
    "# Equity(33856 [CLR])\tTrue\t0.064304\tFalse\n",
    "# Equity(34440 [CXO])\tTrue\t0.042184\tFalse\n",
    "# Equity(39797 [OAS])\tTrue\t0.042388\tFalse\n",
    "# Equity(40852 [KMI])\tTrue\t0.023016\tFalse\n",
    "# Equity(41636 [MPC])\tTrue\t0.011952\tFalse\n",
    "# Equity(42788 [PSX])\tTrue\t0.020911\tFalse\n"
   ]
  },
  {
   "cell_type": "markdown",
   "metadata": {},
   "source": [
    "### Pipeline in IDE"
   ]
  },
  {
   "cell_type": "code",
   "execution_count": null,
   "metadata": {},
   "outputs": [],
   "source": [
    "from quantopian.algorithm import attach_pipeline, pipeline_output\n",
    "from quantopian.pipeline import Pipeline\n",
    "from quantopian.pipeline.data.builtin import USEquityPricing\n",
    "from quantopian.pipeline.factors import AverageDollarVolume, SimpleMovingAverage\n",
    "from quantopian.pipeline.filters.morningstar import Q1500US\n",
    "from quantopian.pipeline.data import morningstar\n",
    "\n",
    "\n",
    "\n",
    "def initialize(context):\n",
    "    schedule_function(my_rebalance, date_rules.week_start(), time_rules.market_open(hours=1))    \n",
    "    \n",
    "    my_pipe = make_pipeline()\n",
    "    attach_pipeline(my_pipe, 'my_pipeline')\n",
    "\n",
    "    \n",
    "def my_rebalance(context, data):\n",
    "    for security in context.portfolio.positions:\n",
    "        if security not in context.longs and security not in context.shorts and data.can_trade(security):\n",
    "            order_target_percent(security, 0)\n",
    "            \n",
    "    for security in context.longs:\n",
    "        if data.can_trade(security):\n",
    "            order_target_percent(security, context.long_weight)\n",
    "\n",
    "    for security in context.shorts:\n",
    "        if data.can_trade(security):\n",
    "            order_target_percent(security, context.short_weight)\n",
    "\n",
    "            \n",
    "            \n",
    "def my_compute_weights(context):\n",
    "    \n",
    "    if len(context.longs) == 0:\n",
    "        long_weight = 0 \n",
    "    else:\n",
    "        long_weight = 0.5 / len(context.longs)\n",
    "\n",
    "        \n",
    "    if len(context.shorts) == 0:\n",
    "        short_weight = 0 \n",
    "    else:\n",
    "        short_weight = 0.5 / len(context.longs)\n",
    "    \n",
    "    return (long_weight, short_weight)\n",
    "\n",
    "\n",
    "\n",
    "def before_trading_start(context):\n",
    "    context.output = pipeline_output('my_pipeline')\n",
    "    \n",
    "    #LONG\n",
    "    context.longs = context.output[context.output['longs']].index.tolist()\n",
    "    \n",
    "    #SHORT\n",
    "    context.shorts = context.output[context.output['shorts']].index.tolist()\n",
    "    \n",
    "    context.long_weight, context.short_weight = my_compute_weights(context)\n",
    "    \n",
    "    \n",
    "def make_pipeline():\n",
    "    \n",
    "    # Universe Q1500US\n",
    "    base_universe = Q1500US()\n",
    "    \n",
    "    # Energy Sector\n",
    "    sector = morningstar.asset_classification.morningstar_sector_code.latest\n",
    "    energy_sector = sector.eq(309)\n",
    "    \n",
    "    # Combine above and Make mask of 1500US and Energy\n",
    "    base_energy = base_universe & energy_sector\n",
    "    \n",
    "    # Dollar Volume grab the info\n",
    "    dollar_volume = AverageDollarVolume(window_length=30)\n",
    "    \n",
    "    # Grab the top 5% in avg dollar volume\n",
    "    high_dollar_volume = dollar_volume.percentile_between(95, 100)\n",
    "        \n",
    "    # Combine the filters again\n",
    "    top_five_base_energy = base_energy & high_dollar_volume\n",
    "    \n",
    "    # 10 day mean close\n",
    "    mean_10 = SimpleMovingAverage(inputs=[USEquityPricing.close], window_length=10, mask=top_five_base_energy)\n",
    "    \n",
    "    # 30 day mean close\n",
    "    mean_30 = SimpleMovingAverage(inputs=[USEquityPricing.close], window_length=30, mask=top_five_base_energy)\n",
    "    \n",
    "    # Percent Difference\n",
    "    percent_difference = (mean_10 - mean_30) / mean_30\n",
    "    \n",
    "    # List of Shorts\n",
    "    shorts = percent_difference < 0\n",
    "    \n",
    "    # List of longs \n",
    "    longs = percent_difference > 0\n",
    "    \n",
    "    # final Mask/filter for anything in shorts or Longs\n",
    "    securities_to_trade = (shorts | longs)\n",
    "    \n",
    "    # Return Pipeline\n",
    "    return Pipeline(columns = {\n",
    "                    'longs' : longs,\n",
    "                    'shorts': shorts,\n",
    "                    'perc_diff': percent_difference},\n",
    "                    screen= securities_to_trade\n",
    "                    )\n",
    "    "
   ]
  },
  {
   "cell_type": "markdown",
   "metadata": {},
   "source": [
    "## Leverage"
   ]
  },
  {
   "cell_type": "markdown",
   "metadata": {},
   "source": [
    "Leverage is the ability to borrow money for use in investing.\n",
    "A simple example of leverage would be taking on a mortgage when purchasing a real estate.  \n",
    "\n",
    "For algorithmic trading, leverage is reinvesting debt to gain a greater return on our investments.  \n",
    "You would only do this if your were very confident in your strategy and believed it to be low-risk.  \n",
    "\n",
    "In the real world, leverage would be provided by your broker, and would be highly dependent on your strategy, your account size, previous payments, fees, etc...  \n",
    "\n",
    "Typically we can measure leverage in terms of a ratio : \n",
    "\n",
    "* Leverage Ratio = (Debt + Base) / Base  \n",
    "\n",
    "The sum of your debt and capital base divided by your capital base.  \n",
    "\n",
    "\n",
    "Let's explore leverage in Quantopian.  \n",
    "* We'll work with both the Research Notebook and the IDE, so open up two tabs in your browser!  \n",
    "\n",
    "* Make sure to reference the notebook for the code used here  "
   ]
  },
  {
   "cell_type": "code",
   "execution_count": null,
   "metadata": {},
   "outputs": [],
   "source": [
    "# Leverage Algorithm in the IDE ..\n",
    "\n",
    "def initialize(context):\n",
    "    context.amzn = sid(16841)\n",
    "    context.ibm = sid(3766)\n",
    "    \n",
    "    \n",
    "    schedule_function(rebalance, date_rules.every_day(), time_rules.market_open())\n",
    "    schedule_function(record_vars, date_rules.every_day(), time_rules.market_close())\n",
    "\n",
    "def rebalance(context, data):\n",
    "    order_target_percent(context.amzn, 0.5)\n",
    "    order_target_percent(context.ibm, -0.5)\n",
    "    \n",
    "    \n",
    "def record_vars(context, data):\n",
    "    record(amzn_close = data.current(context.amzn, 'close'))\n",
    "    record(ibm_close  = data.current(context.ibm , 'close'))\n",
    "    record(Leverage = context.account.leverage)\n",
    "    record(Exposure = context.account.net_leverage)"
   ]
  },
  {
   "cell_type": "markdown",
   "metadata": {},
   "source": [
    "Now after running the above code in the IDE, and running a full backtest on the system we will proceed to RESEACH environment. "
   ]
  },
  {
   "cell_type": "markdown",
   "metadata": {},
   "source": [
    "This url portion was generated on the Build Algorithm phase in the IDE: notice the hash at the end.\n",
    "https://www.quantopian.com/algorithms/5e80ce830ad954775d9c3f47\n",
    "\n",
    "From the IDE, we received the below url from the backtest page. \n",
    "https://www.quantopian.com/algorithms/5e80ce830ad954775d9c3f47/5e80d033d607c645a710fbae\n",
    "\n",
    "Notice the second url is also adding a another hash code at the end referring to the backtest. \n",
    "Let's request this again on the IDE, to deep dive from the reseach environment. "
   ]
  },
  {
   "cell_type": "code",
   "execution_count": null,
   "metadata": {},
   "outputs": [],
   "source": [
    "bt = get_backtest('5e80d033d607c645a710fbae')\n",
    "# 100% Time:  0:00:01|##########################################################|"
   ]
  },
  {
   "cell_type": "code",
   "execution_count": null,
   "metadata": {},
   "outputs": [],
   "source": [
    "bt\n",
    "# <qexec.research.backtest.BacktestResult at 0x7f53a6223da0>"
   ]
  },
  {
   "cell_type": "code",
   "execution_count": null,
   "metadata": {},
   "outputs": [],
   "source": [
    "bt.benchmark_security \n",
    "# 8554"
   ]
  },
  {
   "cell_type": "code",
   "execution_count": null,
   "metadata": {},
   "outputs": [],
   "source": [
    "bt.algo_id\n",
    "# '5e80d033d607c645a710fbae'"
   ]
  },
  {
   "cell_type": "code",
   "execution_count": null,
   "metadata": {},
   "outputs": [],
   "source": [
    "bt.recorded_vars.head()"
   ]
  },
  {
   "cell_type": "code",
   "execution_count": null,
   "metadata": {},
   "outputs": [],
   "source": [
    "bt.recorded_vars['Leverage'].plot()"
   ]
  },
  {
   "cell_type": "markdown",
   "metadata": {},
   "source": [
    "## HEDGING"
   ]
  },
  {
   "cell_type": "markdown",
   "metadata": {},
   "source": [
    "In this lecture we will explore hedging a bit further. \n",
    "A lot of what we discuss here is related to CAPM, so make sure to review those lectures!  \n",
    "\n",
    "\n",
    "* Recall that Beta in the CAPM, represents an asset's exposure to the market(typically represented as the S&P500).  \n",
    "* Trading strategies with a low Beta are attactive, as they should operate independently from the market.   \n",
    "\n",
    "In this notebook, we will calculate an asset's Beta and Alpha and then show a simple method of hedging against the Beta, in an attempt to cancel out any risk exposure to the market.   \n",
    "\n",
    "* We will choose a stock such as AAPL, then get its Alpha and Beta values.   \n",
    "* Then we can calculate a short position on the SPY to eliminate its exposures to the market, and trade only on the asset's alpha.  \n",
    "\n",
    "Let's open a new Resarch notebook in Quantopian."
   ]
  },
  {
   "cell_type": "code",
   "execution_count": null,
   "metadata": {},
   "outputs": [],
   "source": [
    "import numpy as np\n",
    "from statsmodels import regression\n",
    "import statsmodels.api as sm\n",
    "import matplotlib.pyplot as plt"
   ]
  },
  {
   "cell_type": "code",
   "execution_count": null,
   "metadata": {},
   "outputs": [],
   "source": [
    "start = '2016-01-01'\n",
    "end   = '2017-01-01'"
   ]
  },
  {
   "cell_type": "code",
   "execution_count": null,
   "metadata": {},
   "outputs": [],
   "source": [
    "asset = get_pricing('AAPL', fields='price', start_date=start, end_date=end)"
   ]
  },
  {
   "cell_type": "code",
   "execution_count": null,
   "metadata": {},
   "outputs": [],
   "source": [
    "bench = get_pricing('SPY', fields='price', start_date=start, end_date=end)"
   ]
  },
  {
   "cell_type": "code",
   "execution_count": null,
   "metadata": {},
   "outputs": [],
   "source": [
    "asset_ret = asset.pct_change(1)[1:]\n",
    "bench_ret = bench.pct_change(1)[1:]"
   ]
  },
  {
   "cell_type": "markdown",
   "metadata": {},
   "source": [
    "Plot"
   ]
  },
  {
   "cell_type": "code",
   "execution_count": null,
   "metadata": {},
   "outputs": [],
   "source": [
    "asset_ret.plot()\n",
    "bench_ret.plot()\n",
    "plt.legend()"
   ]
  },
  {
   "cell_type": "code",
   "execution_count": null,
   "metadata": {},
   "outputs": [],
   "source": [
    "plt.scatter(bench_ret, asset_ret, alpha=0.6, s=50)\n",
    "plt.xlabel('SPY Ret')\n",
    "plt.xlabel('AAPL Ret')"
   ]
  },
  {
   "cell_type": "markdown",
   "metadata": {},
   "source": [
    "#### get alpha and beta through regression"
   ]
  },
  {
   "cell_type": "code",
   "execution_count": null,
   "metadata": {},
   "outputs": [],
   "source": [
    "AAPL = asset_ret.values\n",
    "spy = bench_ret.values"
   ]
  },
  {
   "cell_type": "code",
   "execution_count": null,
   "metadata": {},
   "outputs": [],
   "source": [
    "spy_constant = sm.add_constant(spy)"
   ]
  },
  {
   "cell_type": "code",
   "execution_count": null,
   "metadata": {},
   "outputs": [],
   "source": [
    "spy_constant;"
   ]
  },
  {
   "cell_type": "code",
   "execution_count": null,
   "metadata": {},
   "outputs": [],
   "source": [
    "model = regression.linear_model.OLS(AAPL, spy_constant).fit()"
   ]
  },
  {
   "cell_type": "code",
   "execution_count": null,
   "metadata": {},
   "outputs": [],
   "source": [
    "model.params"
   ]
  },
  {
   "cell_type": "code",
   "execution_count": null,
   "metadata": {},
   "outputs": [],
   "source": [
    "alpha, beta = model.params"
   ]
  },
  {
   "cell_type": "code",
   "execution_count": null,
   "metadata": {},
   "outputs": [],
   "source": [
    "print('alpha  :' + str(alpha))\n",
    "print('beta  :' + str(alpha))"
   ]
  },
  {
   "cell_type": "code",
   "execution_count": null,
   "metadata": {},
   "outputs": [],
   "source": [
    "min_spy = bench_ret.values.min()\n",
    "max_spy = bench_ret.values.max()\n",
    "\n",
    "spy_line = np.linspace(min_spy, max_spy, 100)\n",
    "y = spy_line*beta + alpha\n",
    "\n",
    "plt.plot(spy_line,  y, 'r')\n",
    "plt.scatter(bench_ret, asset_ret, alpha=0.6, s=50)\n",
    "plt.xlabel('SPY Ret')\n",
    "plt.ylabel('AAPL Ret')"
   ]
  },
  {
   "cell_type": "code",
   "execution_count": null,
   "metadata": {},
   "outputs": [],
   "source": [
    "# now lets implement a simple hedge. \n",
    "# short the market by beta\n",
    "\n",
    "hedged  = (-1) * (beta * bench_ret) + asset_ret"
   ]
  },
  {
   "cell_type": "code",
   "execution_count": null,
   "metadata": {},
   "outputs": [],
   "source": [
    "hedged.plot(label='AAPL with Hedge')\n",
    "asset_ret.plot(alpha=0.5)\n",
    "bench_ret.plot(alpha=0.5)\n",
    "plt.xlim(['2016-06-01', '2016-08-01'])\n",
    "plt.legend()"
   ]
  },
  {
   "cell_type": "code",
   "execution_count": null,
   "metadata": {},
   "outputs": [],
   "source": [
    "def alpha_beta(benchmark_ret, stock):\n",
    "    \n",
    "    benchmark = sm.add_constant(benchmark_ret)\n",
    "    \n",
    "    model =regression.linear_model.OLS(stock, benchmark).fit()\n",
    "    \n",
    "    return model.params[0], model.params[1]"
   ]
  },
  {
   "cell_type": "code",
   "execution_count": null,
   "metadata": {},
   "outputs": [],
   "source": [
    "## 2016 VALUES\n",
    "# alpha 1.679902481e-05\n",
    "# beta 1.02981369795"
   ]
  },
  {
   "cell_type": "code",
   "execution_count": null,
   "metadata": {},
   "outputs": [],
   "source": [
    "portfolio = -1 * beta2016 * benchmark_ret2016 + asset_ret2016"
   ]
  },
  {
   "cell_type": "code",
   "execution_count": null,
   "metadata": {},
   "outputs": [],
   "source": [
    "alpha, beta = alpha_beta(benchmark_ret2016, portfolio)"
   ]
  },
  {
   "cell_type": "code",
   "execution_count": null,
   "metadata": {},
   "outputs": [],
   "source": [
    "print('PORTFOLIO ALPHA AND BETA')\n",
    "\n",
    "print('alpha  ' + str(alpha))\n",
    "print('beta   ' + str(beta))"
   ]
  },
  {
   "cell_type": "code",
   "execution_count": null,
   "metadata": {},
   "outputs": [],
   "source": [
    "# PORTFOLIO ALPHA AND BETA\n",
    "# alpha  1.679902481e-05\n",
    "# beta   1.36609473733e-16\n",
    "\n",
    "# Notice above beta is close to zero, meaning it is nearly eliminated."
   ]
  },
  {
   "cell_type": "code",
   "execution_count": null,
   "metadata": {},
   "outputs": [],
   "source": [
    "portfolio.plot(alpha=0.9, label='AAPL with HEDGE')\n",
    "asset_ret2016.plot(alpha=0.5)\n",
    "benchmark_ret2016.plot(alpha=0.5)\n",
    "plt.ylabel('DAILY RETURN')\n",
    "plt.legend()"
   ]
  },
  {
   "cell_type": "code",
   "execution_count": null,
   "metadata": {},
   "outputs": [],
   "source": [
    "print('portfolio mean    :' + str(portfolio.mean()))\n",
    "print('asset_ret2016 mean:' + str(asset_ret2016.mean()))\n",
    "\n",
    "print('-------------------------------------------')\n",
    "\n",
    "print('portfolio std     :' + str(portfolio.std()))\n",
    "print('asset_ret2016 std :' + str(asset_ret2016.std()))"
   ]
  },
  {
   "cell_type": "code",
   "execution_count": null,
   "metadata": {},
   "outputs": [],
   "source": [
    "# Comparing mean returns and std's \n",
    "\n",
    "# portfolio mean    :0.0011399935632582228\n",
    "# asset_ret2016 mean:0.000574549568770769\n",
    "# -------------------------------------------\n",
    "# portfolio std     :0.009066375411652783\n",
    "# asset_ret2016 std :0.014702747344261722\n",
    "\n",
    "# both mean returns and std's are now less than the original values"
   ]
  },
  {
   "cell_type": "markdown",
   "metadata": {},
   "source": [
    "#### Let's do it in the 2017 first 8 months this time. "
   ]
  },
  {
   "cell_type": "code",
   "execution_count": null,
   "metadata": {},
   "outputs": [],
   "source": [
    "# 2017 CELL\n",
    "\n",
    "start = '2017-01-01'\n",
    "end   = '2017-08-01'\n",
    "asset2017 = get_pricing('AAPL', fields='price', start_date=start, end_date=end)\n",
    "benchmark2017 = get_pricing('SPY', fields='price', start_date=start, end_date=end)\n",
    "\n",
    "asset_ret2017 = asset2017.pct_change(1)[1:]\n",
    "benchmark_ret2017 = benchmark2017.pct_change(1)[1:]\n",
    "\n",
    "aret_values = asset_ret2017.values\n",
    "bret_values = benchmark_ret2017.values\n",
    "\n",
    "alpha2017, beta2017 = alpha_beta(bret_values, aret_values)\n",
    "\n",
    "print('2017 Based Figures')\n",
    "print('alpha ' + str(alpha2017))\n",
    "print('beta ' + str(beta2017))"
   ]
  },
  {
   "cell_type": "code",
   "execution_count": null,
   "metadata": {},
   "outputs": [],
   "source": [
    "# 2017 Based Figures\n",
    "# alpha 0.000968854542346\n",
    "# beta 1.26769880296"
   ]
  },
  {
   "cell_type": "code",
   "execution_count": null,
   "metadata": {},
   "outputs": [],
   "source": [
    "print(alpha2016)\n",
    "print(beta2016)"
   ]
  },
  {
   "cell_type": "code",
   "execution_count": null,
   "metadata": {},
   "outputs": [],
   "source": [
    "# 1.679902481e-05\n",
    "# 1.02981369795"
   ]
  },
  {
   "cell_type": "code",
   "execution_count": null,
   "metadata": {},
   "outputs": [],
   "source": [
    "# we are using previous years beta in today's information\n",
    "portfolio  =  -1 * beta2016 * benchmark_ret2017 + asset_ret2017"
   ]
  },
  {
   "cell_type": "code",
   "execution_count": null,
   "metadata": {},
   "outputs": [],
   "source": [
    "alpha, beta = alpha_beta(benchmark_ret2017, portfolio)"
   ]
  },
  {
   "cell_type": "code",
   "execution_count": null,
   "metadata": {},
   "outputs": [],
   "source": [
    "print('portfolio mean    :' + str(portfolio.mean()))\n",
    "print('asset_ret2017 mean:' + str(asset_ret2017.mean()))\n",
    "\n",
    "print('-------------------------------------------')\n",
    "\n",
    "print('portfolio std     :' + str(portfolio.std()))\n",
    "print('asset_ret2017 std :' + str(asset_ret2017.std()))"
   ]
  },
  {
   "cell_type": "code",
   "execution_count": null,
   "metadata": {},
   "outputs": [],
   "source": [
    "# portfolio mean    :0.0011399935632582228\n",
    "# asset_ret2017 mean:0.0018808609159293456\n",
    "# -------------------------------------------\n",
    "# portfolio std     :0.009066375411652783\n",
    "# asset_ret2017 std :0.010484461271996029"
   ]
  },
  {
   "cell_type": "markdown",
   "metadata": {},
   "source": [
    "We are sacrificing average returns for less volatility, lowering both mean returns and volatility."
   ]
  },
  {
   "cell_type": "markdown",
   "metadata": {},
   "source": [
    "## Portfolio Analysis with PYFOLIO"
   ]
  },
  {
   "cell_type": "markdown",
   "metadata": {},
   "source": [
    "Quantopian has a built in library called **PyFolio** that quickly creates \"tear-sheets\" and useful information plots easily. Let's explore this!\n",
    "\n",
    "https://github.com/quantopian/pyfolio"
   ]
  },
  {
   "cell_type": "code",
   "execution_count": null,
   "metadata": {},
   "outputs": [],
   "source": [
    "# Following code section to be run on Quantopian\n",
    "\n",
    "import pyfolio as pf\n",
    "import matplotlib.pyplot as plt\n",
    "import empyrical"
   ]
  },
  {
   "cell_type": "code",
   "execution_count": null,
   "metadata": {},
   "outputs": [],
   "source": [
    "# algo returns\n",
    "# use leverage exercise backtest.\n",
    "bt = get_backtest('5e80d033d607c645a710fbae')"
   ]
  },
  {
   "cell_type": "code",
   "execution_count": null,
   "metadata": {},
   "outputs": [],
   "source": [
    "bt_returns = bt.daily_performance['returns']"
   ]
  },
  {
   "cell_type": "code",
   "execution_count": null,
   "metadata": {},
   "outputs": [],
   "source": [
    "bt_positions = bt.pyfolio_positions"
   ]
  },
  {
   "cell_type": "code",
   "execution_count": null,
   "metadata": {},
   "outputs": [],
   "source": [
    "bt_transactions = bt.pyfolio_transactions"
   ]
  },
  {
   "cell_type": "code",
   "execution_count": null,
   "metadata": {},
   "outputs": [],
   "source": [
    "empyrical.sharpe_ratio(bt_returns)"
   ]
  },
  {
   "cell_type": "code",
   "execution_count": null,
   "metadata": {},
   "outputs": [],
   "source": [
    "# bt.create_full_tear_sheet();"
   ]
  },
  {
   "cell_type": "markdown",
   "metadata": {},
   "source": [
    "___"
   ]
  },
  {
   "cell_type": "code",
   "execution_count": 4,
   "metadata": {},
   "outputs": [],
   "source": [
    "# Benchmark returns from the SPY leverage  hash :  5e81269e32fc8d45ae5468e0\n",
    "\n",
    "benchmark_rets = get_backtest('5e81269e32fc8d45ae5468e0')"
   ]
  },
  {
   "cell_type": "code",
   "execution_count": null,
   "metadata": {},
   "outputs": [],
   "source": [
    "bm_returns =  benchmark_rets.daily_performance['returns']"
   ]
  },
  {
   "cell_type": "code",
   "execution_count": null,
   "metadata": {},
   "outputs": [],
   "source": [
    "bm_positions = benchmark_rets.pyfolio_positions\n",
    "bm_transactions = benchmark_rets.pyfolio_transactions"
   ]
  },
  {
   "cell_type": "code",
   "execution_count": null,
   "metadata": {},
   "outputs": [],
   "source": [
    "print('Sharp Ratio for portfolio :', str(empyrical.sharpe_ratio(bt_returns)))\n",
    "print('Sharp Ratio for benchmark :', str(empyrical.sharpe_ratio(bm_returns)))\n",
    "\n",
    "# Sharp Ratio for portfolio : 0.012790682682849846\n",
    "# Sharp Ratio for benchmark : 0.4482604408899276"
   ]
  },
  {
   "cell_type": "code",
   "execution_count": null,
   "metadata": {},
   "outputs": [],
   "source": [
    "# pf.plotting"
   ]
  },
  {
   "cell_type": "code",
   "execution_count": null,
   "metadata": {},
   "outputs": [],
   "source": [
    "#  Cumulative Returns\n",
    "plt.subplot(2,1,1)\n",
    "pf.plotting.plot_rolling_returns(bt_returns, bm_returns)\n",
    "\n",
    "# Daily non-cumulative returns\n",
    "plt.subplot(2,1,2)\n",
    "pf.plotting.plot_returns(bt_returns)\n",
    "plt.tight_layout()"
   ]
  },
  {
   "cell_type": "code",
   "execution_count": null,
   "metadata": {},
   "outputs": [],
   "source": [
    "fig = plt.figure(1)\n",
    "plt.subplot(1,3,1)\n",
    "pf.plot_annual_returns(bt_returns)\n",
    "\n",
    "plt.subplot(1,3,2)\n",
    "pf.plot_monthly_returns_dist(bt_returns)\n",
    "\n",
    "plt.subplot(1,3,3)\n",
    "pf.plot_monthly_returns_heatmap(bt_returns)\n",
    "\n",
    "plt.tight_layout()\n",
    "fig.set_size_inches(15,5)"
   ]
  },
  {
   "cell_type": "code",
   "execution_count": null,
   "metadata": {},
   "outputs": [],
   "source": [
    "pf.plot_return_quantiles(bt_returns)"
   ]
  },
  {
   "cell_type": "code",
   "execution_count": null,
   "metadata": {},
   "outputs": [],
   "source": [
    "pf.plot_rolling_beta(bt_returns, bm_returns);"
   ]
  },
  {
   "cell_type": "code",
   "execution_count": null,
   "metadata": {},
   "outputs": [],
   "source": [
    "pf.plot_rolling_sharpe(bt_returns);"
   ]
  },
  {
   "cell_type": "code",
   "execution_count": null,
   "metadata": {},
   "outputs": [],
   "source": [
    "pf.plot_drawdown_periods(bt_returns);"
   ]
  },
  {
   "cell_type": "code",
   "execution_count": null,
   "metadata": {},
   "outputs": [],
   "source": [
    "pf.plot_drawdown_underwater(bt_returns);"
   ]
  },
  {
   "cell_type": "code",
   "execution_count": null,
   "metadata": {},
   "outputs": [],
   "source": [
    "pf.plot_gross_leverage(bt_returns, bt_positions)"
   ]
  },
  {
   "cell_type": "code",
   "execution_count": null,
   "metadata": {},
   "outputs": [],
   "source": [
    "pf.create_round_trip_tear_sheet(bt_returns, bt_positions, bt_transactions)"
   ]
  },
  {
   "cell_type": "markdown",
   "metadata": {},
   "source": [
    "## Stock Sentiment Analysis"
   ]
  },
  {
   "cell_type": "markdown",
   "metadata": {},
   "source": [
    "* We have currently looked at numerical data as a trading signal, but there is a lot more information out in the world!\n",
    "* A common source for signal is to use sentiment analysis\n",
    "\n",
    "Sentiment Analysis uses natural language processing to attempt to detect sentiment in some text.   \n",
    "ie. Positive vs Negative Sentiments.  \n",
    "\n",
    "This sort of data is almost never free.  Quantopian does have a free version of sentiment analysis (available only for years 2013-2015).  Accern Alphaone provides a sentiment from -1 to 1 and an impact score of 0 to 100.\n",
    "\n",
    "**Impact** is a measure of how likely a stock price will change as a result of the sentiment. \n",
    "In the following lectures, we will show you how to access this free data and setup a trading strategy with it!  "
   ]
  },
  {
   "cell_type": "code",
   "execution_count": 6,
   "metadata": {},
   "outputs": [],
   "source": [
    "# No Code for Alphaone \n",
    "# use sentdex instead.\n",
    "# https://www.quantopian.com/docs/data-reference/sentdex#sentdex-data-reference"
   ]
  },
  {
   "cell_type": "code",
   "execution_count": null,
   "metadata": {},
   "outputs": [],
   "source": [
    "from quantopian.pipeline.data.sentdex import sentiment\n",
    "from quantopian.pipeline.domain import US_EQUITIES\n",
    "from quantopian.pipeline.factors import SimpleMovingAverage\n",
    "from quantopian.research import run_pipeline\n",
    "\n",
    "# Define a 5-day simple moving average sentiment factor.\n",
    "mean_sentiment_5day = SimpleMovingAverage(inputs=[sentiment.sentiment_signal], window_length=5)\n",
    "\n",
    "# Add the sentiment factor to a pipeline.\n",
    "pipe = Pipeline(\n",
    "    columns={\n",
    "        'mean_sentiment_5day': mean_sentiment_5day,\n",
    "    },\n",
    "    domain=US_EQUITIES,\n",
    ")\n",
    "\n",
    "# Run the pipeline for a year and print the first few rows of the result.\n",
    "df = run_pipeline(pipe, '2017-05-05', '2018-05-05')\n",
    "print(df.head())"
   ]
  },
  {
   "cell_type": "markdown",
   "metadata": {},
   "source": [
    "## Futures"
   ]
  },
  {
   "cell_type": "markdown",
   "metadata": {},
   "source": [
    "Extra Resources:\n",
    "\n",
    "https://en.wikipedia.org/wiki/Futures_contract\n",
    "http://www.investopedia.com/terms/f/futurescontract.asp"
   ]
  },
  {
   "cell_type": "code",
   "execution_count": null,
   "metadata": {},
   "outputs": [],
   "source": [
    "import numpy as np\n",
    "import pandas as pd\n",
    "import matplotlib.pyplot as plt"
   ]
  },
  {
   "cell_type": "markdown",
   "metadata": {},
   "source": [
    "### Getting Futures\n",
    "A reference to a futures contract is obtained via the symbols function. Futures contracts are denoted by a base symbol + a code for month/year of delivery. CLF16 is a contract for crude oil (CL) with delivery in January (F) 2016 (16).\n",
    "\n",
    "List of all Available Futures (on Quantopian)\n"
   ]
  },
  {
   "cell_type": "markdown",
   "metadata": {},
   "source": [
    "https://www.quantopian.com/docs/api-reference/algorithm-api-reference#futures  \n",
    "\n",
    "\n",
    "\n",
    "Let's grab the future contract data for Natural Gas for a maturity date of January 2018. (If you are viewing this lecture some time in the future, choose a further out maturity date)"
   ]
  },
  {
   "cell_type": "code",
   "execution_count": null,
   "metadata": {},
   "outputs": [],
   "source": [
    "future_contract = symbols('NGF18')"
   ]
  },
  {
   "cell_type": "code",
   "execution_count": null,
   "metadata": {},
   "outputs": [],
   "source": [
    "future_contract.asset_name\n",
    "\n",
    "# u'Natural Gas'"
   ]
  },
  {
   "cell_type": "code",
   "execution_count": null,
   "metadata": {},
   "outputs": [],
   "source": [
    "for key in future_contract.to_dict():\n",
    "    print(key,'\\t', future_contract.to_dict()[key] )"
   ]
  },
  {
   "cell_type": "code",
   "execution_count": null,
   "metadata": {},
   "outputs": [],
   "source": [
    "futures_position_value = get_pricing(future_contract, start_date = '2017-01-01', end_date = '2018-01-01', fields = 'price')\n",
    "futures_position_value.name = futures_position_value.name.symbol\n",
    "futures_position_value.plot()\n",
    "plt.title('NG Futures Price')\n",
    "plt.xlabel('Date')\n",
    "plt.ylabel('Price');"
   ]
  },
  {
   "cell_type": "code",
   "execution_count": null,
   "metadata": {},
   "outputs": [],
   "source": [
    "from quantopian.research.experimental import history\n",
    "print history.__doc__"
   ]
  },
  {
   "cell_type": "code",
   "execution_count": null,
   "metadata": {},
   "outputs": [],
   "source": [
    "Load a table of historical trade data.\n",
    "\n",
    "    Parameters\n",
    "    ----------\n",
    "    symbols : Asset-convertible object, ContinuousFuture, or iterable of same.\n",
    "        Valid input types are Asset, Integral, basestring, or ContinuousFuture.\n",
    "        In the case that the passed objects are strings, they are interpreted\n",
    "        as ticker symbols and resolved relative to the date specified by\n",
    "        symbol_reference_date.\n",
    "\n",
    "    fields : str or list\n",
    "        String or list drawn from {'price', 'open_price', 'high', 'low',\n",
    "        'close_price', 'volume', 'contract'}.\n",
    "\n",
    "    start : str or pd.Timestamp\n",
    "        String or Timestamp representing a start date or start intraday minute\n",
    "        for the returned data.\n",
    "\n",
    "    end : str or pd.Timestamp\n",
    "        String or Timestamp representing an end date or end intraday minute for\n",
    "        the returned data.\n",
    "\n",
    "    frequency : {'daily', 'minute'}\n",
    "        Resolution of the data to be returned.\n",
    "\n",
    "    symbol_reference_date : str or pd.Timestamp, optional\n",
    "        String or Timestamp representing a date used to resolve symbols that\n",
    "        have been held by multiple companies. Defaults to the current time.\n",
    "\n",
    "    handle_missing : {'raise', 'log', 'ignore'}, optional\n",
    "        String specifying how to handle unmatched securities. Defaults to\n",
    "        'raise'.\n",
    "\n",
    "    start_offset : int, optional\n",
    "        Number of periods before ``start`` to fetch.\n",
    "        Default is 0. This is most often useful when computing returns.\n",
    "\n",
    "    Returns\n",
    "    -------\n",
    "    pandas Panel/DataFrame/Series\n",
    "        The pricing data that was requested. See note below.\n",
    "\n",
    "    Notes\n",
    "    -----\n",
    "    If a list of symbols is provided, data is returned in the form of a pandas\n",
    "    Panel object with the following indices::\n",
    "\n",
    "        items = fields\n",
    "        major_axis = TimeSeries (start_date -> end_date)\n",
    "        minor_axis = symbols\n",
    "\n",
    "    If a string is passed for the value of `symbols` and `fields` is None or a\n",
    "    list of strings, data is returned as a DataFrame with a DatetimeIndex and\n",
    "    columns given by the passed fields.\n",
    "\n",
    "    If a list of symbols is provided, and `fields` is a string, data is\n",
    "    returned as a DataFrame with a DatetimeIndex and a columns given by the\n",
    "    passed `symbols`.\n",
    "\n",
    "    If both parameters are passed as strings, data is returned as a Series.\n",
    "    "
   ]
  },
  {
   "cell_type": "code",
   "execution_count": null,
   "metadata": {},
   "outputs": [],
   "source": [
    "ngf18 = future_contract"
   ]
  },
  {
   "cell_type": "code",
   "execution_count": null,
   "metadata": {},
   "outputs": [],
   "source": [
    "ngf18_data = history(ngf18, \n",
    "                     fields=['price', 'open_price', 'high', 'low', 'close_price', 'volume', 'contract'], \n",
    "                     frequency='daily', \n",
    "                     start='2017-06-01', \n",
    "                     end='2017-08-01')"
   ]
  },
  {
   "cell_type": "code",
   "execution_count": null,
   "metadata": {},
   "outputs": [],
   "source": [
    "# Notice the 4th of July!\n",
    "ngf18_data['volume'].plot(kind='bar')"
   ]
  },
  {
   "cell_type": "markdown",
   "metadata": {},
   "source": [
    "### Comparison of Different Maturity Dates"
   ]
  },
  {
   "cell_type": "code",
   "execution_count": null,
   "metadata": {},
   "outputs": [],
   "source": [
    "ng_contracts = symbols(['NGF17', 'NGG17', 'NGH17', 'NGJ17', 'NGK17', 'NGM17'])"
   ]
  },
  {
   "cell_type": "code",
   "execution_count": null,
   "metadata": {},
   "outputs": [],
   "source": [
    "ng_consecutive_contract_volume.plot()"
   ]
  },
  {
   "cell_type": "code",
   "execution_count": null,
   "metadata": {},
   "outputs": [],
   "source": [
    "ng_consecutive_contract_volume.plot(xlim=['2016-10-01','2017-08-01'])"
   ]
  },
  {
   "cell_type": "markdown",
   "metadata": {},
   "source": [
    "Trading activity jumps from one contract to the next. Transitions happen just prior to the delivery date of each contract.\n",
    "\n",
    "This phenomenon can make it difficult to work with futures. Having to explicitly reference a series of transient contracts when trading or simulating futures can be a hassle.\n",
    "\n",
    "In order to trade consecutive contracts for the same underlying future, we can use what's called a \"Continuous Future\".\n",
    "\n",
    "\n",
    "###  Continuous Futures\n",
    "\n",
    "\n",
    "Continuous futures are abstractions over the 'underlying' commodities/assets/indexes of futures. For example, if we wanted to trade crude oil, we could create a reference to CL, instead of a series of CL contracts. Continuous futures essentially maintain a reference to a 'current' contract deemed to be the active contract for the particular underlying.\n",
    "\n",
    "We use the continuous futures objects as part of the platform to get a continuous chain of historical data for futures contracts, taking these concerns into account. There are several ways to adjust for the cost of carry when looking at historical data, though people differ on what they prefer. The general consensus is that an adjustment should be done.\n",
    "\n",
    "Continuous futures are not tradable assets. They maintain a reference to the current active contract related to a given underlying."
   ]
  },
  {
   "cell_type": "code",
   "execution_count": null,
   "metadata": {},
   "outputs": [],
   "source": [
    "from quantopian.research.experimental import continuous_future"
   ]
  },
  {
   "cell_type": "code",
   "execution_count": null,
   "metadata": {},
   "outputs": [],
   "source": [
    "print(continuous_future.__doc__)"
   ]
  },
  {
   "cell_type": "markdown",
   "metadata": {},
   "source": [
    "There are 4 arguments that we need to consider.\n",
    "\n",
    "**root_symbol**: The root symbol of the underlying. For example, 'CL' for crude oil.  \n",
    "**offset**: The distance from the primary contract. 0 = primary, 1 = secondary, etc. We'll get into this more later.  \n",
    "**roll**: How to determine the 'current' contract of the continuous future. Current options are 'volume' and 'calendar'. The **volume**' approach chooses the current active contract based on trading volume.   \n",
    "The '**calendar'** approach chooses the current active contract based simply on the auto_close_dates of each contract.**  \n",
    "adjustment: How to adjust historical prices from earlier contracts.   \n",
    "\n",
    "\n",
    "We'll get into this more later. Options are 'mul', 'add', or 'None'.\n"
   ]
  },
  {
   "cell_type": "code",
   "execution_count": null,
   "metadata": {},
   "outputs": [],
   "source": [
    "continuous_ng = continuous_future('NG', offset=0, roll='volume', adjustment='mul')\n",
    "continuous_ng\n",
    "# ContinuousFuture(94090707563773952, root_symbol='NG', offset=0, roll_style='volume', adjustment='mul')"
   ]
  },
  {
   "cell_type": "code",
   "execution_count": null,
   "metadata": {},
   "outputs": [],
   "source": [
    "ng_cont_active = history(continuous_ng, \n",
    "                    fields=['contract','price','volume'] ,\n",
    "                    frequency='daily', \n",
    "                    start_date='2016-10-01', \n",
    "                    end_date='2017-08-01')"
   ]
  },
  {
   "cell_type": "code",
   "execution_count": null,
   "metadata": {},
   "outputs": [],
   "source": [
    "\n",
    "ng_cont_active.head()"
   ]
  },
  {
   "cell_type": "code",
   "execution_count": null,
   "metadata": {},
   "outputs": [],
   "source": [
    "ng_cont_active['price'].plot()"
   ]
  },
  {
   "cell_type": "code",
   "execution_count": null,
   "metadata": {},
   "outputs": [],
   "source": [
    "\n",
    "ng_cont_active['volume'].plot()"
   ]
  },
  {
   "cell_type": "code",
   "execution_count": null,
   "metadata": {},
   "outputs": [],
   "source": [
    "ng_consecutive_contract_volume = history(ng_contracts, \n",
    "                                         fields='volume', \n",
    "                                         frequency='daily', \n",
    "                                         start_date='2016-10-01', \n",
    "                                         end_date='2017-08-01')"
   ]
  },
  {
   "cell_type": "code",
   "execution_count": null,
   "metadata": {},
   "outputs": [],
   "source": [
    "ax = ng_cont_active['volume'].plot(ls='--',c='black',lw=3)\n",
    "ng_consecutive_contract_volume.plot(ax=ax)"
   ]
  },
  {
   "cell_type": "code",
   "execution_count": null,
   "metadata": {},
   "outputs": [],
   "source": [
    "ng_consecutive_contract_price = history(ng_contracts, \n",
    "                                         fields='price', \n",
    "                                         frequency='daily', \n",
    "                                         start_date='2016-10-01', \n",
    "                                         end_date='2017-08-01')"
   ]
  },
  {
   "cell_type": "code",
   "execution_count": null,
   "metadata": {},
   "outputs": [],
   "source": [
    "ng_continuous_active = history(continuous_ng, \n",
    "                    fields=['contract','price','volume'] ,\n",
    "                    frequency='daily', \n",
    "                    start_date='2016-10-01', \n",
    "                    end_date='2017-08-01')"
   ]
  },
  {
   "cell_type": "code",
   "execution_count": null,
   "metadata": {},
   "outputs": [],
   "source": [
    "ng_consecutive_contract_price.plot()"
   ]
  },
  {
   "cell_type": "code",
   "execution_count": null,
   "metadata": {},
   "outputs": [],
   "source": [
    "ng_cont_active['price'].plot(c='black',lw=3)"
   ]
  },
  {
   "cell_type": "markdown",
   "metadata": {},
   "source": [
    "This represents the price of the underlying commodity, NG, on the most actively traded contract. Much easier to look at.\n",
    "\n",
    "You might notice that the price at the start of this plot exceeds 4.0, but when we plotted the individual contracts, it barely made it above 3.6. This is because the historical price is getting adjusted for jumps between contracts.\n",
    "\n",
    "The best way to explain this is to plot the prices history of the unadjusted continuous future.\n"
   ]
  },
  {
   "cell_type": "code",
   "execution_count": null,
   "metadata": {},
   "outputs": [],
   "source": [
    "continuous_ng_unadjusted = continuous_future('NG', offset=0, roll='volume', adjustment=None)"
   ]
  },
  {
   "cell_type": "code",
   "execution_count": null,
   "metadata": {},
   "outputs": [],
   "source": [
    "ng_unadjusted_history = history(continuous_ng_unadjusted, \n",
    "                                fields=['contract', 'price'], \n",
    "                                frequency='daily', \n",
    "                                start_date='2016-10-01', \n",
    "                                end_date='2017-08-01')"
   ]
  },
  {
   "cell_type": "code",
   "execution_count": null,
   "metadata": {},
   "outputs": [],
   "source": [
    "ng_unadjusted_history.head()"
   ]
  },
  {
   "cell_type": "code",
   "execution_count": null,
   "metadata": {},
   "outputs": [],
   "source": [
    "ng_unadjusted_history.plot()"
   ]
  },
  {
   "cell_type": "code",
   "execution_count": null,
   "metadata": {},
   "outputs": [],
   "source": [
    "\n",
    "ng_consecutive_contract_price.plot()"
   ]
  },
  {
   "cell_type": "code",
   "execution_count": null,
   "metadata": {},
   "outputs": [],
   "source": [
    "pivot_unadj = ng_unadjusted_history.pivot(index=ng_unadjusted_history.index,columns='contract')\n",
    "\n",
    "pivot_unadj.head()"
   ]
  },
  {
   "cell_type": "code",
   "execution_count": null,
   "metadata": {},
   "outputs": [],
   "source": [
    "pivot_unadj.plot()"
   ]
  },
  {
   "cell_type": "code",
   "execution_count": null,
   "metadata": {},
   "outputs": [],
   "source": [
    "ax = pivot_unadj.plot()\n",
    "ng_unadjusted_history.plot(ax=ax,ls='--',c='black')"
   ]
  },
  {
   "cell_type": "markdown",
   "metadata": {},
   "source": [
    "### Adjustment Types\n",
    "There are two main adjustment types, additive or multiplicative.\n",
    "\n",
    "* Multiplicative adjustment, mul  \n",
    "This essentially computes the adjustment as the ratio of new contract price / old contract price whenever the active contract rolls to a new contract.\n",
    "\n",
    "* Arithmetic adjustment, 'add'   \n",
    "The 'add' technique computes the adjustment as the difference new contract price - old contract price."
   ]
  },
  {
   "cell_type": "markdown",
   "metadata": {},
   "source": [
    "# *** THE END ***"
   ]
  }
 ],
 "metadata": {
  "kernelspec": {
   "display_name": "Python 3",
   "language": "python",
   "name": "python3"
  },
  "language_info": {
   "codemirror_mode": {
    "name": "ipython",
    "version": 3
   },
   "file_extension": ".py",
   "mimetype": "text/x-python",
   "name": "python",
   "nbconvert_exporter": "python",
   "pygments_lexer": "ipython3",
   "version": "3.8.5"
  }
 },
 "nbformat": 4,
 "nbformat_minor": 2
}
